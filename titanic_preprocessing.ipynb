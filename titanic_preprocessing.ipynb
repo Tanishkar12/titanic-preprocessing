{
  "nbformat": 4,
  "nbformat_minor": 0,
  "metadata": {
    "colab": {
      "provenance": [],
      "authorship_tag": "ABX9TyMK8ui8t2YOeJUEoptXlUcW",
      "include_colab_link": true
    },
    "kernelspec": {
      "name": "python3",
      "display_name": "Python 3"
    },
    "language_info": {
      "name": "python"
    }
  },
  "cells": [
    {
      "cell_type": "markdown",
      "metadata": {
        "id": "view-in-github",
        "colab_type": "text"
      },
      "source": [
        "<a href=\"https://colab.research.google.com/github/Tanishkar12/titanic-preprocessing/blob/main/titanic_preprocessing.ipynb\" target=\"_parent\"><img src=\"https://colab.research.google.com/assets/colab-badge.svg\" alt=\"Open In Colab\"/></a>"
      ]
    },
    {
      "cell_type": "code",
      "execution_count": null,
      "metadata": {
        "id": "ZwW1CxmmIrG0"
      },
      "outputs": [],
      "source": [
        "#importing all the required libraries for preprocessing\n",
        "import pandas as pd\n",
        "import matplotlib.pyplot as plt\n",
        "import seaborn as sns\n",
        "import sklearn\n",
        "#Load the Dataset\n",
        "df=pd.read_csv(\"Titanic-Dataset.csv\")"
      ]
    },
    {
      "cell_type": "code",
      "source": [
        "#First five Columns\n",
        "df.head()"
      ],
      "metadata": {
        "id": "-0t47kauIzaK"
      },
      "execution_count": null,
      "outputs": []
    },
    {
      "cell_type": "code",
      "source": [
        "#Shape of the dataset\n",
        "print(df.shape)\n",
        "#Numerical Features Description Such as mean,std etc\n",
        "print(df.describe())\n",
        "#Gives datatypes etc.\n",
        "print(df.info())"
      ],
      "metadata": {
        "id": "w17YwvUHIzWm"
      },
      "execution_count": null,
      "outputs": []
    },
    {
      "cell_type": "code",
      "source": [
        "#To get all the null Values\n",
        "df.isnull().sum()"
      ],
      "metadata": {
        "id": "o3cvRAN1IzTz"
      },
      "execution_count": null,
      "outputs": []
    },
    {
      "cell_type": "code",
      "source": [
        "#Filling the null values with mean age\n",
        "df[\"Age\"]=df[\"Age\"].fillna(df[\"Age\"].mean())\n",
        "print(df[\"Age\"])\n",
        "#Checking\n",
        "print(df[\"Age\"].isnull().sum())"
      ],
      "metadata": {
        "id": "90M1wb1dIzQ5"
      },
      "execution_count": null,
      "outputs": []
    },
    {
      "cell_type": "code",
      "source": [
        "#Removing the two rows that contains null values for Barked feature\n",
        "df.dropna(subset=['Embarked'])"
      ],
      "metadata": {
        "id": "4IA31ij9IzN-"
      },
      "execution_count": null,
      "outputs": []
    },
    {
      "cell_type": "code",
      "source": [
        "#Shape after Removing\n",
        "df.shape"
      ],
      "metadata": {
        "id": "GEh460xyIzLK"
      },
      "execution_count": null,
      "outputs": []
    },
    {
      "cell_type": "code",
      "source": [
        "#Finding Ouliers using seaborn and matplotlib\n",
        "sns.boxplot(x=[\"Survived\"])"
      ],
      "metadata": {
        "id": "NjHMeIY0IzIS"
      },
      "execution_count": null,
      "outputs": []
    },
    {
      "cell_type": "code",
      "source": [
        "#Selection of Numeric features\n",
        "num_cols = df.select_dtypes(include=['int64','float64']).columns\n",
        "print(num_cols)"
      ],
      "metadata": {
        "id": "tUcc5HZkIzFT"
      },
      "execution_count": null,
      "outputs": []
    },
    {
      "cell_type": "code",
      "source": [
        "#finding ouliers using inter quatile range\n",
        "outliers_iqr = {}\n",
        "for col in num_cols:\n",
        "    Q1 = df[col].quantile(0.25)\n",
        "    Q3 = df[col].quantile(0.75)\n",
        "    IQR = Q3 - Q1\n",
        "    lower = Q1 - 1.5 * IQR\n",
        "    upper = Q3 + 1.5 * IQR\n",
        "    outliers_iqr[col] = df[(df[col] < lower) | (df[col] > upper)].shape[0]\n",
        "print(outliers_iqr)"
      ],
      "metadata": {
        "id": "IuPlKvuCIzCK"
      },
      "execution_count": null,
      "outputs": []
    },
    {
      "cell_type": "code",
      "source": [
        "#encoding categorical features using labelencoder eg:sex\n",
        "from sklearn.preprocessing import LabelEncoder\n",
        "le = LabelEncoder()\n",
        "df[\"sex_encoded\"] = le.fit_transform(df[\"Sex\"])"
      ],
      "metadata": {
        "id": "uT7v1oXrIy_J"
      },
      "execution_count": null,
      "outputs": []
    },
    {
      "cell_type": "code",
      "source": [
        "#ordinal\n",
        "df = pd.get_dummies(df, columns=[\"Embarked\"], prefix=\"Embarked\")"
      ],
      "metadata": {
        "id": "wcMGmBkRJM4e"
      },
      "execution_count": null,
      "outputs": []
    },
    {
      "cell_type": "code",
      "source": [
        "#standadization\n",
        "from sklearn.preprocessing import StandardScaler\n",
        "scaler = StandardScaler()\n",
        "df[[\"age_std\",\"fare_std\"]] = scaler.fit_transform(df[[\"Age\",\"Fare\"]])"
      ],
      "metadata": {
        "id": "bx-xxaNyJM08"
      },
      "execution_count": null,
      "outputs": []
    },
    {
      "cell_type": "code",
      "source": [
        "#Normalization\n",
        "from sklearn.preprocessing import MinMaxScaler\n",
        "mm = MinMaxScaler()\n",
        "df[[\"age_norm\",\"fare_norm\"]] = mm.fit_transform(df[[\"Age\",\"Fare\"]])"
      ],
      "metadata": {
        "id": "UVrfyis-JQyt"
      },
      "execution_count": null,
      "outputs": []
    }
  ]
}